{
 "cells": [
  {
   "cell_type": "code",
   "execution_count": 6,
   "id": "683e3a99",
   "metadata": {},
   "outputs": [
    {
     "name": "stdout",
     "output_type": "stream",
     "text": [
      "The shortest distance is 11 using the following path: [(0, 0), (1, 1), (2, 2), (3, 3), (4, 4), (5, 5), (6, 6), (6, 7), (6, 8), (7, 9), (8, 9), (9, 9)].\n"
     ]
    }
   ],
   "source": [
    "# phase 1 plus BONUS\n",
    "\n",
    "# define the initial maze\n",
    "maze = [\n",
    "    [0,0,0,0,0,0,0,0,0,0],\n",
    "    [0,0,0,0,0,0,0,0,0,0],\n",
    "    [0,0,0,0,0,0,0,0,0,0],\n",
    "    [0,0,0,0,0,0,0,0,0,0],\n",
    "    [0,0,0,0,0,0,0,0,0,0],\n",
    "    [0,0,0,0,0,0,0,0,0,0],\n",
    "    [0,0,0,0,0,0,0,0,0,0],\n",
    "    [0,0,0,0,0,0,0,1,1,1],\n",
    "    [0,0,0,0,0,0,0,1,0,0],\n",
    "    [0,0,0,0,0,0,0,0,0,0]\n",
    "    ]\n",
    "\n",
    "def path(maze, moves):\n",
    "    '''FIND THE SHORTEST PATH THROUGH THE MAZE'''\n",
    "    \n",
    "    'MAZE PROPERTIES'\n",
    "    num_rows = len(maze)\n",
    "    num_cols = len(maze[0])\n",
    "    \n",
    "    # start and end points can be altered\n",
    "    end_pt = (num_cols - 1, num_rows - 1)\n",
    "    start_pt = (0, 0)\n",
    "\n",
    "    'BREATH FIRST SEARCH'\n",
    "    # dictionary of visited points\n",
    "    visited = {end_pt: None}\n",
    "    \n",
    "    # queue of next points to visit\n",
    "    queue = [end_pt]\n",
    "    \n",
    "    # positions of removed obstructions\n",
    "    change = set()\n",
    "    \n",
    "    # while loop through the queue\n",
    "    while queue:\n",
    "        current = queue.pop(0)\n",
    "        if current == start_pt:\n",
    "            shortest_path = []\n",
    "            while current:\n",
    "                shortest_path.append(current)\n",
    "                current = visited[current]\n",
    "            return shortest_path, change\n",
    "        \n",
    "        # initialize the list of adjacent points to the current point\n",
    "        adj_points = []\n",
    "\n",
    "        'FIND ADJACENT POINTS'\n",
    "        # up, right, down, left, and diagonals\n",
    "        allowed_moves = [(0,1),(1,0),(-1,0),(0,-1),(1,1),(-1,-1),(1,-1),(-1,1)]\n",
    "        \n",
    "        # current collumn, current row\n",
    "        col, row = current\n",
    "        \n",
    "        # check if the potential new position is within the boundaries, been seen before or has an obstruction\n",
    "        for dc, dr in allowed_moves:\n",
    "            new_c, new_r = col+dc, row+dr\n",
    "\n",
    "            if 0<= new_c < num_cols and 0<= new_r < num_rows :\n",
    "                # check that the new position is free of obstructions\n",
    "                if maze[new_r][new_c] == 0 :\n",
    "                    adj_points.append((new_c, new_r))\n",
    "                    \n",
    "                # check if we are allowed to remove the obstruction\n",
    "                elif moves > 0:\n",
    "                    moves -= 1\n",
    "                    change.add((new_c, new_r))\n",
    "                    adj_points.append((new_c, new_r))\n",
    "\n",
    "        'LOOP THROUGH ADJACENT POINTS'\n",
    "        for point in adj_points:\n",
    "            # add adjacent point to queue if it has not been visited before\n",
    "            if point not in visited:\n",
    "                visited[point] = current\n",
    "                queue.append(point)\n",
    "\n",
    "def shortestPath(maze, moves = 0):\n",
    "    '''DETERMINING THE NUMBER OF OBJECTS THAT NEED TO BE MOVED FOR SHORTEST PATH'''\n",
    "    # number of objects moved\n",
    "    obj_moved = moves\n",
    "    \n",
    "    # test if such path is possible\n",
    "    Path = path(maze, obj_moved)\n",
    "    if Path != None:\n",
    "        # no moved objects\n",
    "        if Path[1] == set():\n",
    "            return \"The shortest distance is {} using the following path: {}.\".format(len(Path[0])-1,Path[0])\n",
    "        # with moved objects\n",
    "        else:\n",
    "            print(\"Unable to reach delivery point\")\n",
    "            return \"The shortest distance is {} using the following path: {} and with moved objects at {}.\".format(len(Path[0])-1, Path[0], [x for x in Path[1] if x in Path[0]])\n",
    "    \n",
    "    # recursive step if no such path exists\n",
    "    else:\n",
    "        return shortestPath(maze, obj_moved+1)\n",
    "\n",
    "Path = shortestPath(maze,0)\n",
    "print(Path)"
   ]
  },
  {
   "cell_type": "code",
   "execution_count": 7,
   "id": "1c808d8f",
   "metadata": {},
   "outputs": [
    {
     "name": "stdout",
     "output_type": "stream",
     "text": [
      "The shortest distance is 13 using the following path: [(0, 0), (1, 0), (2, 0), (3, 1), (4, 2), (5, 3), (5, 4), (5, 5), (6, 6), (6, 7), (6, 8), (7, 9), (8, 9), (9, 9)].\n"
     ]
    },
    {
     "data": {
      "text/plain": [
       "[[0, 0, 0, 0, 0, 0, 0, 0, 0, 0],\n",
       " [1, 1, 1, 0, 0, 0, 0, 1, 0, 0],\n",
       " [0, 0, 0, 0, 0, 0, 0, 0, 0, 1],\n",
       " [0, 1, 0, 0, 0, 0, 0, 0, 0, 0],\n",
       " [0, 1, 0, 0, 0, 0, 0, 1, 1, 1],\n",
       " [1, 0, 0, 0, 0, 0, 1, 0, 1, 0],\n",
       " [1, 1, 0, 0, 0, 0, 0, 0, 0, 1],\n",
       " [1, 0, 0, 0, 0, 0, 0, 1, 1, 1],\n",
       " [0, 0, 1, 0, 0, 0, 0, 1, 1, 0],\n",
       " [0, 0, 1, 0, 0, 0, 0, 0, 0, 0]]"
      ]
     },
     "execution_count": 7,
     "metadata": {},
     "output_type": "execute_result"
    }
   ],
   "source": [
    "# phase 2 \n",
    "def randomizeGrid(maze, blocks):\n",
    "    '''ADDS RANDOMLY LOCATED OBSTRUCTIONS TO THE MAZE DENOTED BY 1S'''\n",
    "    import numpy\n",
    "    import random\n",
    "    \n",
    "    'MAZE PROPERTIES'\n",
    "    num_rows = len(maze)\n",
    "    num_cols = len(maze[0])\n",
    "    end_pt = (num_cols - 1, num_rows - 1)\n",
    "    start_pt = (0, 0)\n",
    "\n",
    "    # obstruction locations in a set to avoid repeats\n",
    "    # can be altered if the maze is altered to avoid repeats\n",
    "    positions = set([(9,7),(8,7),(7,7),(7,8)]) \n",
    "    \n",
    "    'RANDOM OBSTRUCTIONS'\n",
    "    # number of obstructions previously\n",
    "    prev_obs = len(positions)\n",
    "    \n",
    "    # while loop until the number of obstructions is sufficient\n",
    "    while len(positions) < blocks + prev_obs:\n",
    "        rand_row = numpy.random.randint(0, num_rows)\n",
    "        rand_col = numpy.random.randint(0, num_cols)\n",
    "        positions.add((rand_col, rand_row))\n",
    "        \n",
    "        # remove obstructions if they coincide with the start and/or end points\n",
    "        positions.discard(start_pt)\n",
    "        positions.discard(end_pt)\n",
    "       \n",
    "    'ALTER THE MAZE'\n",
    "    for i in positions:\n",
    "        maze[i[1]][i[0]] = 1\n",
    "        \n",
    "    return maze\n",
    "\n",
    "maze1 = randomizeGrid(maze, 20)\n",
    "\n",
    "print(shortestPath(maze1,0))\n",
    "maze1"
   ]
  },
  {
   "cell_type": "code",
   "execution_count": 8,
   "id": "b94debe5",
   "metadata": {},
   "outputs": [
    {
     "data": {
      "text/plain": [
       "[[2, 2, 2, 0, 0, 0, 0, 0, 0, 0],\n",
       " [1, 1, 1, 2, 0, 0, 0, 1, 0, 0],\n",
       " [0, 0, 0, 0, 2, 0, 0, 0, 0, 1],\n",
       " [0, 1, 0, 0, 0, 2, 0, 0, 0, 0],\n",
       " [0, 1, 0, 0, 0, 0, 2, 1, 1, 1],\n",
       " [1, 0, 0, 0, 0, 0, 1, 2, 1, 0],\n",
       " [1, 1, 0, 0, 0, 0, 0, 0, 2, 1],\n",
       " [1, 0, 0, 0, 0, 0, 0, 1, 1, 2],\n",
       " [0, 0, 1, 0, 0, 0, 0, 1, 1, 2],\n",
       " [0, 0, 1, 0, 0, 0, 0, 0, 0, 2]]"
      ]
     },
     "execution_count": 8,
     "metadata": {},
     "output_type": "execute_result"
    }
   ],
   "source": [
    "# representation of shortest vehicle path with 2s\n",
    "for i in path(maze1, 5)[0]:\n",
    "    maze1[i[1]][i[0]] = 2\n",
    "    \n",
    "maze1"
   ]
  },
  {
   "cell_type": "code",
   "execution_count": null,
   "id": "c7c24bee",
   "metadata": {},
   "outputs": [],
   "source": []
  }
 ],
 "metadata": {
  "kernelspec": {
   "display_name": "Python 3",
   "language": "python",
   "name": "python3"
  },
  "language_info": {
   "codemirror_mode": {
    "name": "ipython",
    "version": 3
   },
   "file_extension": ".py",
   "mimetype": "text/x-python",
   "name": "python",
   "nbconvert_exporter": "python",
   "pygments_lexer": "ipython3",
   "version": "3.8.8"
  }
 },
 "nbformat": 4,
 "nbformat_minor": 5
}
